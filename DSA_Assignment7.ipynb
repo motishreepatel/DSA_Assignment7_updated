{
 "cells": [
  {
   "cell_type": "code",
   "execution_count": 1,
   "metadata": {},
   "outputs": [
    {
     "name": "stdout",
     "output_type": "stream",
     "text": [
      "True\n"
     ]
    }
   ],
   "source": [
    "#Q - Question1\n",
    "'''Given two strings s and t, *determine if they are isomorphic*.\n",
    "\n",
    "Two strings s and t are isomorphic if the characters in s can be replaced to get t.\n",
    "\n",
    "All occurrences of a character must be replaced with another character while preserving the order of characters. No two characters may map to the same character, but a character may map to itself.\n",
    "\n",
    "**Example 1:**\n",
    "\n",
    "**Input:** s = \"egg\", t = \"add\"\n",
    "''' \n",
    "#Answer:\n",
    "def isIsomorphic(s, t):\n",
    "    s_to_t = {}\n",
    "    t_to_s = {}\n",
    "    \n",
    "    for ch_s, ch_t in zip(s, t):\n",
    "        if ch_s not in s_to_t and ch_t not in t_to_s:\n",
    "            s_to_t[ch_s] = ch_t\n",
    "            t_to_s[ch_t] = ch_s\n",
    "        elif ch_s in s_to_t and ch_t in t_to_s:\n",
    "            if s_to_t[ch_s] != ch_t or t_to_s[ch_t] != ch_s:\n",
    "                return False\n",
    "        else:\n",
    "            return False\n",
    "    \n",
    "    return True\n",
    "\n",
    "s = \"egg\"\n",
    "t = \"add\"\n",
    "result = isIsomorphic(s, t)\n",
    "print(result)\n"
   ]
  },
  {
   "cell_type": "code",
   "execution_count": 2,
   "metadata": {},
   "outputs": [
    {
     "name": "stdout",
     "output_type": "stream",
     "text": [
      "True\n"
     ]
    }
   ],
   "source": [
    "#Q - Question 2\n",
    "\n",
    "'''Given a string num which represents an integer, return true *if* num *is a **strobogrammatic number***.\n",
    "\n",
    "A **strobogrammatic number** is a number that looks the same when rotated 180 degrees (looked at upside down).\n",
    "\n",
    "**Example 1:**\n",
    "\n",
    "**Input:** num = \"69\"\n",
    "'''  \n",
    "#Answer:\n",
    "def isStrobogrammatic(num):\n",
    "    strob = {'0': '0', '1': '1', '6': '9', '8': '8', '9': '6'}\n",
    "    left, right = 0, len(num) - 1\n",
    "    \n",
    "    while left <= right:\n",
    "        if num[left] not in strob or num[right] not in strob or strob[num[left]] != num[right]:\n",
    "            return False\n",
    "        left += 1\n",
    "        right -= 1\n",
    "    \n",
    "    return True\n",
    "\n",
    "num = \"69\"\n",
    "result = isStrobogrammatic(num)\n",
    "print(result)\n"
   ]
  },
  {
   "cell_type": "code",
   "execution_count": 4,
   "metadata": {},
   "outputs": [
    {
     "name": "stdout",
     "output_type": "stream",
     "text": [
      "134\n"
     ]
    }
   ],
   "source": [
    "#Q - Question 3\n",
    "\n",
    "'''Given two non-negative integers, num1 and num2 represented as string, return *the sum of* num1 *and* num2 *as a string*.\n",
    "\n",
    "You must solve the problem without using any built-in library for handling large integers (such as BigInteger). You must also not convert the inputs to integers directly.\n",
    "\n",
    "**Example 1:**\n",
    "\n",
    "**Input:** num1 = \"11\", num2 = \"123\" '''\n",
    "#Answer:\n",
    "\n",
    "def addStrings(num1, num2):\n",
    "    p1, p2 = len(num1) - 1, len(num2) - 1\n",
    "    carry = 0\n",
    "    result = \"\"\n",
    "    \n",
    "    while p1 >= 0 or p2 >= 0:\n",
    "        digit1 = ord(num1[p1]) - 48 if p1 >= 0 else 0\n",
    "        digit2 = ord(num2[p2]) - 48 if p2 >= 0 else 0\n",
    "        total = (digit1 + digit2 + carry) % 10\n",
    "        carry = (digit1 + digit2 + carry) // 10\n",
    "        result = str(total) + result\n",
    "        p1 -= 1\n",
    "        p2 -= 1\n",
    "    \n",
    "    if carry > 0:\n",
    "        result = str(carry) + result\n",
    "    \n",
    "    return result\n",
    "\n",
    "num1 = \"11\"\n",
    "num2 = \"123\"\n",
    "result = addStrings(num1, num2)\n",
    "print(result)\n"
   ]
  },
  {
   "cell_type": "code",
   "execution_count": 5,
   "metadata": {},
   "outputs": [
    {
     "name": "stdout",
     "output_type": "stream",
     "text": [
      "s'teL ekat edoCteeL tsetnoc\n"
     ]
    }
   ],
   "source": [
    "#Q - Question 4\n",
    "'''Given a string s, reverse the order of characters in each word within a sentence while still preserving whitespace and initial word order.\n",
    "\n",
    "**Example 1:**\n",
    "\n",
    "**Input:** s = \"Let's take LeetCode contest\" ''' \n",
    "#Answer:\n",
    "def reverseWords(s):\n",
    "    words = s.split()\n",
    "    for i in range(len(words)):\n",
    "        words[i] = words[i][::-1]\n",
    "    return \" \".join(words)\n",
    "    \n",
    "s = \"Let's take LeetCode contest\"\n",
    "result = reverseWords(s)\n",
    "print(result)\n"
   ]
  },
  {
   "cell_type": "code",
   "execution_count": 6,
   "metadata": {},
   "outputs": [
    {
     "name": "stdout",
     "output_type": "stream",
     "text": [
      "bacdfeg\n"
     ]
    }
   ],
   "source": [
    "#Q - Question 5\n",
    "'''Given a string s and an integer k, reverse the first k characters for every 2k characters counting from the start of the string.\n",
    "\n",
    "If there are fewer than k characters left, reverse all of them. If there are less than 2k but greater than or equal to k characters, then reverse the first k characters and leave the other as original.\n",
    "\n",
    "**Example 1:**\n",
    "\n",
    "**Input:** s = \"abcdefg\", k = 2\n",
    "'''  \n",
    "#Answer:\n",
    "def reverseStr(s, k):\n",
    "    s = list(s)\n",
    "    i = 0\n",
    "    while i < len(s):\n",
    "        if i + k <= len(s):\n",
    "            s[i:i+k] = reversed(s[i:i+k])\n",
    "        else:\n",
    "            s[i:] = reversed(s[i:])\n",
    "        i += 2 * k\n",
    "    return \"\".join(s)\n",
    "\n",
    "s = \"abcdefg\"\n",
    "k = 2\n",
    "result = reverseStr(s, k)\n",
    "print(result)\n"
   ]
  },
  {
   "cell_type": "code",
   "execution_count": 7,
   "metadata": {},
   "outputs": [
    {
     "name": "stdout",
     "output_type": "stream",
     "text": [
      "True\n"
     ]
    }
   ],
   "source": [
    "#Q - Question 6\n",
    "\n",
    "'''Given two strings s and goal, return true *if and only if* s *can become* goal *after some number of **shifts** on* s.\n",
    "\n",
    "A **shift** on s consists of moving the leftmost character of s to the rightmost position.\n",
    "\n",
    "- For example, if s = \"abcde\", then it will be \"bcdea\" after one shift.\n",
    "\n",
    "**Example 1:**\n",
    "\n",
    "**Input:** s = \"abcde\", goal = \"cdeab\" ''' \n",
    "#Answer:\n",
    "def rotateString(s, goal):\n",
    "    if len(s) != len(goal):\n",
    "        return False\n",
    "    double_s = s + s\n",
    "    return goal in double_s\n",
    "\n",
    "s = \"abcde\"\n",
    "goal = \"cdeab\"\n",
    "result = rotateString(s, goal)\n",
    "print(result)\n"
   ]
  },
  {
   "cell_type": "code",
   "execution_count": 8,
   "metadata": {},
   "outputs": [
    {
     "name": "stdout",
     "output_type": "stream",
     "text": [
      "True\n"
     ]
    }
   ],
   "source": [
    "#Q - Question 7\n",
    "\n",
    "'''Given two strings s and t, return true *if they are equal when both are typed into empty text editors*. '#' means a backspace character.\n",
    "\n",
    "Note that after backspacing an empty text, the text will continue empty.\n",
    "\n",
    "**Example 1:**\n",
    "\n",
    "**Input:** s = \"ab#c\", t = \"ad#c\"\n",
    "''' \n",
    "#Answer:\n",
    "def backspaceCompare(s, t):\n",
    "    def buildString(s):\n",
    "        stack = []\n",
    "        for c in s:\n",
    "            if c != '#':\n",
    "                stack.append(c)\n",
    "            elif stack:\n",
    "                stack.pop()\n",
    "        return \"\".join(stack)\n",
    "    \n",
    "    return buildString(s) == buildString(t)\n",
    "\n",
    "s = \"ab#c\"\n",
    "t = \"ad#c\"\n",
    "result = backspaceCompare(s, t)\n",
    "print(result)\n"
   ]
  },
  {
   "cell_type": "code",
   "execution_count": 10,
   "metadata": {},
   "outputs": [
    {
     "name": "stdout",
     "output_type": "stream",
     "text": [
      "True\n"
     ]
    }
   ],
   "source": [
    "#Q - Question 8\n",
    "\n",
    "'''You are given an array coordinates, coordinates[i] = [x, y], where [x, y] represents the coordinate of a point. Check if these points make a straight line in the XY plane.\n",
    "\n",
    "**Example 1:**\n",
    "Input: coordinates = [[1,2],[2,3],[3,4],[4,5],[5,6],[6,7]] '''\n",
    "#Answer:\n",
    "def checkStraightLine(coordinates):\n",
    "    if len(coordinates) <= 2:\n",
    "        return True\n",
    "    \n",
    "    p1, p2 = coordinates[0], coordinates[1]\n",
    "    slope = (p2[1] - p1[1]) / (p2[0] - p1[0])\n",
    "    \n",
    "    for i in range(2, len(coordinates)):\n",
    "        p = coordinates[i]\n",
    "        current_slope = (p[1] - p1[1]) / (p[0] - p1[0])\n",
    "        if current_slope != slope:\n",
    "            return False\n",
    "    \n",
    "    return True\n",
    "\n",
    "coordinates = [[1,2],[2,3],[3,4],[4,5],[5,6],[6,7]]\n",
    "result = checkStraightLine(coordinates)\n",
    "print(result)\n"
   ]
  },
  {
   "cell_type": "code",
   "execution_count": null,
   "metadata": {},
   "outputs": [],
   "source": []
  }
 ],
 "metadata": {
  "kernelspec": {
   "display_name": "Python 3.9.6 64-bit",
   "language": "python",
   "name": "python3"
  },
  "language_info": {
   "codemirror_mode": {
    "name": "ipython",
    "version": 3
   },
   "file_extension": ".py",
   "mimetype": "text/x-python",
   "name": "python",
   "nbconvert_exporter": "python",
   "pygments_lexer": "ipython3",
   "version": "3.9.6"
  },
  "orig_nbformat": 4,
  "vscode": {
   "interpreter": {
    "hash": "31f2aee4e71d21fbe5cf8b01ff0e069b9275f58929596ceb00d14d90e3e16cd6"
   }
  }
 },
 "nbformat": 4,
 "nbformat_minor": 2
}
